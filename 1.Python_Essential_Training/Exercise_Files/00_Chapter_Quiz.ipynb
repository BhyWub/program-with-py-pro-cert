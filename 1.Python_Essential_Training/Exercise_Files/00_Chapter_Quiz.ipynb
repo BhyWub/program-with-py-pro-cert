{
 "cells": [
  {
   "cell_type": "markdown",
   "id": "cb2a06e5",
   "metadata": {},
   "source": [
    "# CHAPTER QUIZ"
   ]
  },
  {
   "cell_type": "markdown",
   "id": "fe6d1aee",
   "metadata": {},
   "source": [
    "### CHAPTER 1\n",
    "\n",
    "1. After this code is run, what is the value of b?\n",
    "    - a = [1,2,3]\n",
    "    - b = a\n",
    "    - a = [4,5,6]\n",
    "    > ANS: [1,2,3]\n",
    "\n",
    "2. What happens when the computer reads a comment line in Python?\n",
    "    > ANS: Nothing. The line is skipped.\n",
    "\n",
    "3. What symbol do \"comments\" start with?\n",
    "    > ANS: #"
   ]
  },
  {
   "cell_type": "markdown",
   "id": "fbd121e6",
   "metadata": {},
   "source": [
    "### CHAPTER 2\n",
    "\n",
    "1. What is the output of this code?\n",
    "    - '2' + '22'\n",
    "    > ANS: 222\n",
    "\n",
    "2. Assuming a Dog class exists, what is the type that this statement returns?\n",
    "    - type(Dog('Rover'))\n",
    "    > ANS: Dog\n",
    "\n",
    "3. What is the value of var?\n",
    "    - def addTwo(x):\n",
    "        - return x + 2\n",
    "    - def multiply(a, b):\n",
    "        - return a * b\n",
    "    - var = multiply(addTwo(2), 3)\n",
    "    > ANS: 12\n",
    "\n",
    "4. In this code, what is the value of listLen?\n",
    "    - myList = [[1,2], ['apple'], [3,4,5]]\n",
    "    - listLen = len(myList)\n",
    "    > ANS: 3\n",
    "\n",
    "5. What does false = False do?\n",
    "    > ANS: It sets a variable false to the boolean value False.\n",
    "\n",
    "6. What is the value of 456 % 10?\n",
    "    > ANS: 6\n",
    "\n",
    "7. What happens when this code is run?\n",
    "    - var = (1,2,3)\n",
    "    - var.append(4)\n",
    "    > ANS: There is an AttributeError: the tuple object has no attribute append\n",
    "\n",
    "8. What is the value of '4' * 4?\n",
    "    > ANS: '4444'\n",
    "\n",
    "9. How many times will this loop run before terminating?\n",
    "    - a = [1,2,3,4]\n",
    "    - while True:\n",
    "        - print(a[0])\n",
    "    > ANS: It will not stop."
   ]
  },
  {
   "cell_type": "markdown",
   "id": "5e897887",
   "metadata": {},
   "source": [
    "### CHAPTER 3\n",
    "\n",
    "1. What is the value of int('101', 2)?\n",
    "    > ANS: 5\n",
    "\n",
    "2. What is the value of int(8.7)?\n",
    "    > ANS: 8\n",
    "\n",
    "3. What is the value of this statement?\n",
    "    - bool(-1) == 1\n",
    "    > ANS: TRUE\n",
    "\n",
    "4. What class might be used to store precise monetary amounts for a banking application?\n",
    "    > ANS: decimal\n",
    "\n",
    "5. What does bytes(4) do?\n",
    "    > ANS: It creates an empty bytes object 4 bytes long.\n",
    "\n",
    "6. What is used to surround multi-line Python strings?\n",
    "    > ANS: '''Some string'''"
   ]
  },
  {
   "cell_type": "markdown",
   "id": "38c51887",
   "metadata": {},
   "source": [
    "### CHAPTER 4\n",
    "\n",
    "1. What is not a method of handling missing keys in a dictionary?\n",
    "    > ANS: using the defaultval function\n",
    "\n",
    "2. Which statement is false?\n",
    "    > ANS: The order of elements in a set is important.\n",
    "\n",
    "3. You are given these data structure values:\n",
    "    - values = [[1, 'i', 'a'], ['2', 'we', 'be', 'it'], [3, 'are', 'few', 'too']]\n",
    "    - Then, you are asked to produce this structure:\n",
    "        - {1: ['i', 'a'],\n",
    "        - 2: ['we', 'be', 'it'],\n",
    "        - 3: ['are', 'few', 'too']}\n",
    "    - Which line of Python will do this?\n",
    "    > ANS: {item[0]: item[1:] for item in values}\n",
    "\n",
    "4. How would you write a nested list comprehension to apply a function someFunc to all comments in a list of blog objects?\n",
    "    > ANS: [[someFunc(comment) for comment in blog.comments] for blog in blogs]\n",
    "\n",
    "5. Which option lists the numbers 100 to 0, backwards, by increments of 5? ([100, 95, 90,..., 0])\n",
    "    > ANS: list(range(101))[::-5]"
   ]
  },
  {
   "cell_type": "markdown",
   "id": "4470dee1",
   "metadata": {},
   "source": [
    "### CHAPTER 5\n",
    "\n",
    "1. "
   ]
  }
 ],
 "metadata": {
  "language_info": {
   "name": "python"
  }
 },
 "nbformat": 4,
 "nbformat_minor": 5
}
