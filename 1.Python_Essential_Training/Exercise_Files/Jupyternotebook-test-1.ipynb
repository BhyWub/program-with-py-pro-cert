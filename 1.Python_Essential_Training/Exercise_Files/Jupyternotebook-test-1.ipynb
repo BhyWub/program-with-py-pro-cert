{
 "cells": [
  {
   "cell_type": "code",
   "execution_count": null,
   "id": "22af6f4d-3d19-405e-8f43-bdd7c5dedff9",
   "metadata": {},
   "outputs": [],
   "source": [
    "Some text"
   ]
  },
  {
   "cell_type": "markdown",
   "id": "f659af3f-17ce-4da0-9234-48c89d7884ae",
   "metadata": {},
   "source": [
    "# Title\n",
    "\n",
    "## Title"
   ]
  },
  {
   "cell_type": "code",
   "execution_count": null,
   "id": "af241b8b-e460-456d-9863-dfbec88d66a9",
   "metadata": {},
   "outputs": [],
   "source": []
  },
  {
   "cell_type": "code",
   "execution_count": 1,
   "id": "df177e70-c1f0-4cc5-bec8-72d7e64ffad3",
   "metadata": {},
   "outputs": [
    {
     "name": "stdout",
     "output_type": "stream",
     "text": [
      "Doing some data science\n"
     ]
    }
   ],
   "source": [
    "print('Doing some data science')"
   ]
  },
  {
   "cell_type": "code",
   "execution_count": null,
   "id": "c8a01935-3e66-4450-9f84-c63a3ff90a68",
   "metadata": {},
   "outputs": [],
   "source": []
  },
  {
   "cell_type": "code",
   "execution_count": null,
   "id": "428b3b2b-ce3d-4818-819c-b9e4ec49a0af",
   "metadata": {},
   "outputs": [],
   "source": []
  }
 ],
 "metadata": {
  "kernelspec": {
   "display_name": "Python 3 (ipykernel)",
   "language": "python",
   "name": "python3"
  },
  "language_info": {
   "codemirror_mode": {
    "name": "ipython",
    "version": 3
   },
   "file_extension": ".py",
   "mimetype": "text/x-python",
   "name": "python",
   "nbconvert_exporter": "python",
   "pygments_lexer": "ipython3",
   "version": "3.13.3"
  }
 },
 "nbformat": 4,
 "nbformat_minor": 5
}
