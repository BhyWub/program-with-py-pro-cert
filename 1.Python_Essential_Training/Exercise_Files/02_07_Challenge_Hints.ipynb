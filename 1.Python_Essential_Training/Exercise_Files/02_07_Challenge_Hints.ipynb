{
 "cells": [
  {
   "cell_type": "markdown",
   "id": "df18b2b1",
   "metadata": {},
   "source": [
    "### Here are the key takeaways from the video \"About the challenges\":\n",
    "\n",
    "1. **Expect Initial Difficulty**: It's normal to feel challenged or stuck when starting to write programs. This is part of the learning process.\n",
    "\n",
    "2. **Utilize Resources**: Use the provided hints, explanatory texts, and other learning resources to help you understand and solve the challenges.\n",
    "\n",
    "3. **Practice and Patience**: Give yourself time and space to practice. Writing code takes time, and each moment spent is valuable for learning Python.\n",
    "\n",
    "4. **Input Validation**: The function checks if the input is a valid integer and not negative. If the input is invalid, it returns None.\n",
    "\n",
    "5. **Iterative Solution**: The factorial is calculated using a loop that multiplies the numbers from 1 up to the input number.\n",
    "\n",
    "6. **Recursive Solution**: An alternative solution uses recursion, where the function calls itself to compute the factorial."
   ]
  },
  {
   "cell_type": "code",
   "execution_count": null,
   "id": "a8b38671",
   "metadata": {},
   "outputs": [],
   "source": [
    "# </> Code Challenge: Factorials Answers\n",
    "\n",
    "def factorial(num):\n",
    "    if type(num) != int:\n",
    "        return None\n",
    "    if num < 0:\n",
    "        return None\n",
    "\n",
    "    fact = 1\n",
    "    counter = 1\n",
    "    while counter <= num:\n",
    "        fact = fact * counter\n",
    "        counter = counter + 1\n",
    "    return fact"
   ]
  },
  {
   "cell_type": "markdown",
   "id": "71e24248",
   "metadata": {},
   "source": [
    "Here's a clear, step-by-step explanation of this `factorial` function:\n",
    "\n",
    "---\n",
    "\n",
    "### What does this function do?\n",
    "\n",
    "* It **calculates the factorial** of a given number `num`.\n",
    "* The factorial of a non-negative integer `n` (written as `n!`) is the product of all positive integers from `1` to `n`.\n",
    "* Example: `5! = 5 × 4 × 3 × 2 × 1 = 120`\n",
    "\n",
    "---\n",
    "\n",
    "### Explanation of the code:\n",
    "\n",
    "```python\n",
    "def factorial(num):\n",
    "```\n",
    "\n",
    "* Defines a function named `factorial` that takes one parameter: `num`.\n",
    "\n",
    "---\n",
    "\n",
    "```python\n",
    "    if type(num) != int:\n",
    "        return None\n",
    "```\n",
    "\n",
    "* First, the function checks if `num` is **an integer**.\n",
    "* If it’s **not an integer**, the function returns `None` to indicate invalid input.\n",
    "\n",
    "---\n",
    "\n",
    "```python\n",
    "    if num < 0:\n",
    "        return None\n",
    "```\n",
    "\n",
    "* Next, it checks if the number is **negative**.\n",
    "* Since factorials are only defined for non-negative integers, it returns `None` if `num` is negative.\n",
    "\n",
    "---\n",
    "\n",
    "```python\n",
    "    fact = 1\n",
    "    counter = 1\n",
    "```\n",
    "\n",
    "* Initializes two variables:\n",
    "\n",
    "  * `fact` will hold the factorial result. Starts at 1 because multiplying by 1 doesn't change anything.\n",
    "  * `counter` will keep track of the current number to multiply by, starting at 1.\n",
    "\n",
    "---\n",
    "\n",
    "```python\n",
    "    while counter <= num:\n",
    "        fact = fact * counter\n",
    "        counter = counter + 1\n",
    "```\n",
    "\n",
    "* This is a **while loop** that continues as long as `counter` is less than or equal to `num`.\n",
    "* In each loop:\n",
    "\n",
    "  * Multiply `fact` by the current `counter` value.\n",
    "  * Increase `counter` by 1 to move to the next number.\n",
    "\n",
    "---\n",
    "\n",
    "```python\n",
    "    return fact\n",
    "```\n",
    "\n",
    "* After the loop finishes (meaning all numbers from 1 up to `num` have been multiplied), the function returns the final factorial value stored in `fact`.\n",
    "\n",
    "---\n",
    "\n",
    "### Example: `factorial(5)`\n",
    "\n",
    "| Step  | counter | fact calculation | fact value |\n",
    "| ----- | ------- | ---------------- | ---------- |\n",
    "| Start | 1       | fact = 1         | 1          |\n",
    "| 1     | 1       | fact = 1 \\* 1    | 1          |\n",
    "| 2     | 2       | fact = 1 \\* 2    | 2          |\n",
    "| 3     | 3       | fact = 2 \\* 3    | 6          |\n",
    "| 4     | 4       | fact = 6 \\* 4    | 24         |\n",
    "| 5     | 5       | fact = 24 \\* 5   | 120        |\n",
    "\n",
    "Result returned: **120**\n"
   ]
  },
  {
   "cell_type": "markdown",
   "id": "48f2163c",
   "metadata": {},
   "source": [
    "## Factorial Challenge\n",
    "\n",
    "The factorial function gives the number of possible arrangements of a set of items of length \"n\"\n",
    "\n",
    "For example, there are 4! (\"four factorial\") or 24 ways to arrange four items, which can be calculated as: \n",
    "4 \\* 3 \\* 2 \\* 1\n",
    "\n",
    "5! = 5 \\* 4 \\* 3 \\* 2 \\* 1 = 120\n",
    "\n",
    "6! = 6 \\* 5 \\* 4 \\* 3 \\* 2 \\* 1 = 720\n",
    "\n",
    "etc.\n",
    "\n",
    "In a set of 0 items (an empty set) there is only one way to arrange the items, therefore, 0! = 1\n",
    "\n",
    "For the purposes of this exercise, factorials are only defined for **positive integers** (including 0)\n",
    "\n"
   ]
  },
  {
   "cell_type": "markdown",
   "id": "76c229aa",
   "metadata": {},
   "source": [
    "### Challenge Hints!"
   ]
  },
  {
   "cell_type": "markdown",
   "id": "102ebdab",
   "metadata": {},
   "source": [
    "**HINT 1:** You can figure out whether a variable is of a certain type in the following way:\n"
   ]
  },
  {
   "cell_type": "code",
   "execution_count": 14,
   "id": "df2ebdca",
   "metadata": {
    "scrolled": true
   },
   "outputs": [
    {
     "name": "stdout",
     "output_type": "stream",
     "text": [
      "myVar is an integer!\n"
     ]
    }
   ],
   "source": [
    "myVar = 1\n",
    "\n",
    "if type(myVar) == int:\n",
    "    print('myVar is an integer!')\n",
    "\n",
    "if type(myVar) != int:\n",
    "    print('myVar is NOT an integer!')"
   ]
  },
  {
   "cell_type": "markdown",
   "id": "77f06600",
   "metadata": {},
   "source": [
    "**HINT 2:** You can create a while loop and manipulate multiple variables inside of it:"
   ]
  },
  {
   "cell_type": "code",
   "execution_count": 5,
   "id": "6ac23a6d",
   "metadata": {},
   "outputs": [
    {
     "data": {
      "text/plain": [
       "55"
      ]
     },
     "execution_count": 5,
     "metadata": {},
     "output_type": "execute_result"
    }
   ],
   "source": [
    "# This prints the sum of all of the numbers from 1 to 10\n",
    "i = 0\n",
    "s = 0\n",
    "while i < 10:\n",
    "    i = i + 1\n",
    "    s = s + i\n",
    "\n",
    "s"
   ]
  },
  {
   "cell_type": "markdown",
   "id": "c058630b",
   "metadata": {},
   "source": [
    "**HINT 3:** Alternatively, a function can call itself! This is called \"recursion\" This also returns the sum of all numbers from 0 to 10:\n"
   ]
  },
  {
   "cell_type": "code",
   "execution_count": 6,
   "id": "094c9140",
   "metadata": {},
   "outputs": [
    {
     "data": {
      "text/plain": [
       "55"
      ]
     },
     "execution_count": 6,
     "metadata": {},
     "output_type": "execute_result"
    }
   ],
   "source": [
    "def addNumbers(i):\n",
    "    if i == 0:\n",
    "        return 0\n",
    "    return i + addNumbers(i - 1)\n",
    "    \n",
    "addNumbers(10)"
   ]
  },
  {
   "cell_type": "code",
   "execution_count": 1,
   "id": "92af0386",
   "metadata": {},
   "outputs": [],
   "source": [
    "# Returns the value of the factorial of num if it is defined, otherwise, returns None\n",
    "def factorial(num):\n",
    "    pass\n"
   ]
  },
  {
   "cell_type": "code",
   "execution_count": 17,
   "id": "1d10be7a",
   "metadata": {},
   "outputs": [],
   "source": [
    "factorial(5)"
   ]
  },
  {
   "cell_type": "code",
   "execution_count": 18,
   "id": "c43845c1",
   "metadata": {},
   "outputs": [],
   "source": [
    "factorial(0)"
   ]
  },
  {
   "cell_type": "code",
   "execution_count": 19,
   "id": "8f605415",
   "metadata": {},
   "outputs": [],
   "source": [
    "factorial(-2)"
   ]
  },
  {
   "cell_type": "code",
   "execution_count": 20,
   "id": "5b973ff0",
   "metadata": {},
   "outputs": [],
   "source": [
    "factorial(1.2)"
   ]
  },
  {
   "cell_type": "code",
   "execution_count": 21,
   "id": "67f07cca",
   "metadata": {},
   "outputs": [],
   "source": [
    "factorial('spam spam spam spam spam spam')"
   ]
  },
  {
   "cell_type": "code",
   "execution_count": null,
   "id": "714148cd",
   "metadata": {},
   "outputs": [],
   "source": []
  }
 ],
 "metadata": {
  "kernelspec": {
   "display_name": "Python 3 (ipykernel)",
   "language": "python",
   "name": "python3"
  },
  "language_info": {
   "codemirror_mode": {
    "name": "ipython",
    "version": 3
   },
   "file_extension": ".py",
   "mimetype": "text/x-python",
   "name": "python",
   "nbconvert_exporter": "python",
   "pygments_lexer": "ipython3",
   "version": "3.9.13"
  }
 },
 "nbformat": 4,
 "nbformat_minor": 5
}
