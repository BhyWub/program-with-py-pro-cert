{
 "cells": [
  {
   "cell_type": "markdown",
   "id": "5cd90a72",
   "metadata": {},
   "source": [
    "## Converting Hexadecimal to Decimal\n"
   ]
  },
  {
   "cell_type": "markdown",
   "id": "954cd922",
   "metadata": {},
   "source": [
    "### Here are the key takeaways from the video \"Solution: Converting hex to decimal\":\n",
    "\n",
    "1. **Hexadecimal to Decimal Conversion**: The video explains two methods to convert hexadecimal numbers to decimal. The first method handles specific cases for one, two, and three-character strings, while the second method is more general and can handle any length of string.\n",
    "\n",
    "2. **Validation**: The function first validates that the input string contains valid hexadecimal characters by checking each character against a dictionary.\n",
    "\n",
    "3. **Exponent Calculation**: The second method calculates the exponent for each character's position in the hexadecimal number, multiplying each character by 16 raised to the appropriate power and summing the results."
   ]
  },
  {
   "cell_type": "code",
   "execution_count": null,
   "id": "d52286f4",
   "metadata": {},
   "outputs": [],
   "source": [
    "# </> Code Challenge: Converting hex to decimal Answer [1] - From Solution Answer\n",
    "\n",
    "hexNumbers = {\n",
    "    '0':0, '1':1, '2':2, '3':3, '4':4, '5':5, '6':6, '7':7, '8':8, '9':9,\n",
    "    'A':10, 'B':11, 'C':12, 'D':13, 'E':14, 'F':15,\n",
    "}\n",
    " \n",
    "# Solution 1\n",
    "def hexToDecimal(hexString):      \n",
    "    for char in hexNumbers:\n",
    "        if char not in hexNumbers:\n",
    "            return None\n",
    "\n",
    "    if len(hexNumbers) == 3:\n",
    "        return hexNumbers[hexNumbers[0]] * 16**2 + hexNumbers[hexNumbers[1]] * 16**1 + hexNumbers[hexNumbers[2]] * 16**0\n",
    "    \n",
    "    if len(hexNumbers) == 2:\n",
    "        return hexNumbers[hexNumbers[0]] * 16**1 + hexNumbers[hexNumbers[1]] * 16**0\n",
    "    \n",
    "    if len(hexNumbers) == 1:\n",
    "        return hexNumbers[hexNumbers[0]] * 16**0\n",
    "    return 0\n",
    "\n",
    "# Solution 2\n",
    "def hexToDecimal(hexNumbers):\n",
    "    for char in hexNumbers:\n",
    "        if char not in hexNumbers:\n",
    "            return None\n",
    "    \n",
    "    converted = 0\n",
    "    exponent = len(hexNumbers) - 1\n",
    "    for char in hexNumbers:\n",
    "        converted = converted + hexNumbers[char] * (16 ** exponent)\n",
    "        exponent = exponent - 1\n",
    "    return converted"
   ]
  },
  {
   "cell_type": "code",
   "execution_count": null,
   "id": "9e5f41b6",
   "metadata": {},
   "outputs": [],
   "source": [
    "# </> Code Challenge: Converting hex to decimal Answer [2] - ACTUAL SOLUTION\n",
    "\n",
    "hexNumbers = {\n",
    "    '0': 0, '1': 1, '2': 2, '3': 3, '4': 4, '5': 5, '6': 6, '7': 7, '8': 8, '9': 9,\n",
    "    'A': 10, 'B': 11, 'C': 12, 'D': 13, 'E': 14, 'F': 15\n",
    "}\n",
    "\n",
    "def hexToDec(hex_str):\n",
    "    hex_str = hex_str.upper()\n",
    "    decimal_value = 0\n",
    "\n",
    "    for digit in hex_str:\n",
    "        if digit not in hexNumbers:\n",
    "            return None\n",
    "        decimal_value = decimal_value * 16 + hexNumbers[digit]\n",
    "\n",
    "    return decimal_value"
   ]
  },
  {
   "cell_type": "markdown",
   "id": "56814a72",
   "metadata": {},
   "source": [
    "Here's a clear explanation of how the faster hex-to-decimal conversion works step-by-step:\n",
    "\n",
    "---\n",
    "\n",
    "### How the code converts hex to decimal efficiently:\n",
    "\n",
    "```python\n",
    "decimal_value = 0\n",
    "\n",
    "for digit in hex_str:\n",
    "    decimal_value = decimal_value * 16 + hexNumbers[digit]\n",
    "```\n",
    "\n",
    "---\n",
    "\n",
    "### Step-by-step:\n",
    "\n",
    "1. **Start with zero:**\n",
    "   We set `decimal_value` to `0`. This will hold the decimal number we’re building.\n",
    "\n",
    "2. **Process each hex digit left to right:**\n",
    "   We go through the string `\"1A3F\"` (for example) one character at a time — `'1'`, `'A'`, `'3'`, `'F'`.\n",
    "\n",
    "3. **Multiply by 16 each time:**\n",
    "   At each step, we multiply the current `decimal_value` by 16. Why?\n",
    "   Because hexadecimal is base 16, so moving one digit to the left in hex is the same as multiplying by 16 in decimal.\n",
    "\n",
    "4. **Add the current digit’s decimal value:**\n",
    "   After multiplying, we add the decimal value of the current hex digit (using `hexNumbers` dictionary).\n",
    "\n",
    "5. **Repeat until all digits are processed:**\n",
    "   Each time, `decimal_value` grows larger by incorporating the next digit’s contribution.\n",
    "\n",
    "---\n",
    "\n",
    "### Example with `\"1A3F\"`:\n",
    "\n",
    "| Step  | digit | decimal\\_value calculation          | decimal\\_value |\n",
    "| ----- | ----- | ----------------------------------- | -------------- |\n",
    "| Start | —     | 0                                   | 0              |\n",
    "| 1     | '1'   | 0 \\* 16 + 1  (hex '1' → decimal 1)  | 1              |\n",
    "| 2     | 'A'   | 1 \\* 16 + 10 (hex 'A' → decimal 10) | 26             |\n",
    "| 3     | '3'   | 26 \\* 16 + 3                        | 419            |\n",
    "| 4     | 'F'   | 419 \\* 16 + 15                      | 6719           |\n",
    "\n",
    "Result: **6719** decimal, which matches the decimal equivalent of hex `1A3F`.\n",
    "\n",
    "---\n",
    "\n",
    "### Why is this faster?\n",
    "\n",
    "* **No exponentiation (`16 ** power`) at each step** — which is more costly.\n",
    "* We use multiplication and addition only, which are very fast operations.\n",
    "* We process left to right, building the number as if reading digits from most significant to least significant."
   ]
  },
  {
   "cell_type": "markdown",
   "id": "b204bc4e",
   "metadata": {},
   "source": [
    "### Challenge Hints!"
   ]
  },
  {
   "cell_type": "markdown",
   "id": "41ca3358",
   "metadata": {},
   "source": [
    "**Hint 1:** The following will convert 'ABC' into a decimal:\n"
   ]
  },
  {
   "cell_type": "code",
   "execution_count": 2,
   "id": "31190f4a",
   "metadata": {},
   "outputs": [
    {
     "data": {
      "text/plain": [
       "2748"
      ]
     },
     "execution_count": 2,
     "metadata": {},
     "output_type": "execute_result"
    }
   ],
   "source": [
    "hexNumbers = {\n",
    "    '0': 0, '1': 1, '2': 2, '3': 3, '4': 4, '5': 5, '6': 6, '7': 7, '8': 8, '9': 9,\n",
    "    'A': 10, 'B': 11, 'C': 12, 'D': 13, 'E': 14, 'F': 15\n",
    "}\n",
    "\n",
    "hexNumbers['A'] * 256 + hexNumbers['B'] * 16 + hexNumbers['C'] "
   ]
  },
  {
   "cell_type": "markdown",
   "id": "61a884ee",
   "metadata": {},
   "source": [
    "**Hint 2:** You can check to see how long the hex string is with:"
   ]
  },
  {
   "cell_type": "code",
   "execution_count": 3,
   "id": "7f4a3877",
   "metadata": {},
   "outputs": [
    {
     "data": {
      "text/plain": [
       "2"
      ]
     },
     "execution_count": 3,
     "metadata": {},
     "output_type": "execute_result"
    }
   ],
   "source": [
    "hexNum = '1B'\n",
    "len(hexNum)"
   ]
  },
  {
   "cell_type": "markdown",
   "id": "2893d9ef",
   "metadata": {},
   "source": [
    "**Hint 3:** You can get the character at each position of a string like this:"
   ]
  },
  {
   "cell_type": "code",
   "execution_count": 4,
   "id": "a9cb3333",
   "metadata": {},
   "outputs": [
    {
     "name": "stdout",
     "output_type": "stream",
     "text": [
      "A\n",
      "B\n",
      "C\n"
     ]
    }
   ],
   "source": [
    "hexNum = 'ABC'\n",
    "print(hexNum[0])\n",
    "print(hexNum[1])\n",
    "print(hexNum[2])\n"
   ]
  },
  {
   "cell_type": "code",
   "execution_count": 5,
   "id": "cfc54187",
   "metadata": {},
   "outputs": [],
   "source": [
    "hexNumbers = {\n",
    "    '0': 0, '1': 1, '2': 2, '3': 3, '4': 4, '5': 5, '6': 6, '7': 7, '8': 8, '9': 9,\n",
    "    'A': 10, 'B': 11, 'C': 12, 'D': 13, 'E': 14, 'F': 15\n",
    "}\n",
    "\n",
    "# Converts a string hexadecimal number into an integer decimal\n",
    "# If hexNum is not a valid hexadecimal number, returns None\n",
    "def hexToDec(hexNum):\n",
    "    pass"
   ]
  },
  {
   "cell_type": "markdown",
   "id": "db14e41c-81f1-4897-8bde-cd4855060fba",
   "metadata": {},
   "source": [
    "**Hint 4**: You can tell if every character in a string is a hex character like this:\n",
    "\n"
   ]
  },
  {
   "cell_type": "code",
   "execution_count": 6,
   "id": "6d4c987e-3b52-4679-9ae6-ce3115fd5fa9",
   "metadata": {},
   "outputs": [
    {
     "name": "stdout",
     "output_type": "stream",
     "text": [
      "Z is not a hex character!\n"
     ]
    }
   ],
   "source": [
    "myString = 'ABCZ'\n",
    "for char in myString:\n",
    "    if char not in hexNumbers:\n",
    "        print(f'{char} is not a hex character!')"
   ]
  },
  {
   "cell_type": "code",
   "execution_count": null,
   "id": "3ae60510-e28e-48cb-a4a7-de383931faa6",
   "metadata": {},
   "outputs": [],
   "source": []
  }
 ],
 "metadata": {
  "kernelspec": {
   "display_name": "Python 3",
   "language": "python",
   "name": "python3"
  },
  "language_info": {
   "codemirror_mode": {
    "name": "ipython",
    "version": 3
   },
   "file_extension": ".py",
   "mimetype": "text/x-python",
   "name": "python",
   "nbconvert_exporter": "python",
   "pygments_lexer": "ipython3",
   "version": "3.12.1"
  }
 },
 "nbformat": 4,
 "nbformat_minor": 5
}
